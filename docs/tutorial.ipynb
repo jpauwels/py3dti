{
 "cells": [
  {
   "cell_type": "code",
   "execution_count": null,
   "metadata": {},
   "outputs": [],
   "source": [
    "%pip install -q -U py3dti miniaudio soundcard"
   ]
  },
  {
   "cell_type": "code",
   "execution_count": null,
   "metadata": {},
   "outputs": [],
   "source": [
    "from math import sin, cos, radians\n",
    "from IPython.display import Audio\n",
    "import soundcard\n",
    "import py3dti"
   ]
  },
  {
   "attachments": {},
   "cell_type": "markdown",
   "metadata": {},
   "source": [
    "## Setup py3dti"
   ]
  },
  {
   "cell_type": "code",
   "execution_count": null,
   "metadata": {},
   "outputs": [],
   "source": [
    "sample_rate = 44100\n",
    "block_size = 512\n",
    "file_path = f'../3dti_AudioToolkit/resources/AudioSamples/Anechoic Speech {sample_rate}.wav'"
   ]
  },
  {
   "cell_type": "code",
   "execution_count": null,
   "metadata": {},
   "outputs": [],
   "source": [
    "renderer = py3dti.BinauralRenderer(sample_rate, block_size, resampled_angular_resolution=5)"
   ]
  },
  {
   "attachments": {},
   "cell_type": "markdown",
   "metadata": {},
   "source": [
    "### Add listener"
   ]
  },
  {
   "cell_type": "code",
   "execution_count": null,
   "metadata": {},
   "outputs": [],
   "source": [
    "listener = renderer.add_listener()\n",
    "listener.load_hrtf_from_sofa(f'../3dti_AudioToolkit/resources/HRTF/SOFA/3DTI_HRTF_IRC1008_512s_{sample_rate}Hz.sofa')\n",
    "# listener.load_hrtf_from_3dti(f'3dti_AudioToolkit/resources/HRTF/SOFA/3DTI_HRTF_IRC1008_512s_{sample_rate}Hz.3dti-hrtf') # faster, but less common file format\n",
    "listener.load_ild_near_field_effect_table(f'../3dti_AudioToolkit/resources/ILD/NearFieldCompensation_ILD_{sample_rate}.3dti-ild')"
   ]
  },
  {
   "cell_type": "code",
   "execution_count": null,
   "metadata": {},
   "outputs": [],
   "source": [
    "listener.position = (0, 0, 0) # default position\n",
    "listener.orientation = (1, 0, 0, 0) # default orientation"
   ]
  },
  {
   "cell_type": "code",
   "execution_count": null,
   "metadata": {},
   "outputs": [],
   "source": [
    "listener.position, listener.orientation"
   ]
  },
  {
   "attachments": {},
   "cell_type": "markdown",
   "metadata": {},
   "source": [
    "### Add environment"
   ]
  },
  {
   "cell_type": "code",
   "execution_count": null,
   "metadata": {},
   "outputs": [],
   "source": [
    "environment = renderer.add_environment()\n",
    "environment.load_brir_from_sofa(f'../3dti_AudioToolkit/resources/BRIR/SOFA/3DTI_BRIR_medium_{sample_rate}Hz.sofa')\n",
    "# environment.load_brir_from_3dti(f'3dti_AudioToolkit/resources/BRIR/SOFA/3DTI_BRIR_medium_{sample_rate}Hz.3dti-brir') # faster, but less common file format"
   ]
  },
  {
   "attachments": {},
   "cell_type": "markdown",
   "metadata": {},
   "source": [
    "### Add source(s)"
   ]
  },
  {
   "cell_type": "code",
   "execution_count": null,
   "metadata": {},
   "outputs": [],
   "source": [
    "source = renderer.add_source()"
   ]
  },
  {
   "cell_type": "code",
   "execution_count": null,
   "metadata": {},
   "outputs": [],
   "source": [
    "source.position = (2, 2, 2)\n",
    "source.orientation = (2, 1, 1, 1)"
   ]
  },
  {
   "attachments": {},
   "cell_type": "markdown",
   "metadata": {},
   "source": [
    "## Read source samples"
   ]
  },
  {
   "cell_type": "code",
   "execution_count": null,
   "metadata": {},
   "outputs": [],
   "source": [
    "from miniaudio import decode_file, SampleFormat\n",
    "import numpy as np\n",
    "decoded_file = decode_file(filename=file_path, output_format=SampleFormat.FLOAT32,\n",
    "                           nchannels=1, sample_rate=sample_rate)\n",
    "samples = np.asarray(decoded_file.samples)"
   ]
  },
  {
   "attachments": {},
   "cell_type": "markdown",
   "metadata": {},
   "source": [
    "## Rendering of static listener and sources"
   ]
  },
  {
   "cell_type": "code",
   "execution_count": null,
   "metadata": {},
   "outputs": [],
   "source": [
    "def render_static(renderer, sources):\n",
    "    binaural_length = np.max(list(map(len, sources.values())))\n",
    "    binaural_output = np.zeros((2, binaural_length), dtype=np.float32)\n",
    "    for begin in np.arange(0, binaural_length - renderer.buffer_size, renderer.buffer_size):\n",
    "        end = begin + renderer.buffer_size\n",
    "        for source, samples in sources.items():\n",
    "            left_buffer, right_buffer = source.process_anechoic(samples[begin:end])\n",
    "            binaural_output[0, begin:end] += left_buffer\n",
    "            binaural_output[1, begin:end] += right_buffer\n",
    "\n",
    "        left_buffer, right_buffer = environment.process_virtual_ambisonic_reverb()\n",
    "        binaural_output[0, begin:end] += left_buffer\n",
    "        binaural_output[1, begin:end] += right_buffer\n",
    "    return binaural_output"
   ]
  },
  {
   "cell_type": "code",
   "execution_count": null,
   "metadata": {},
   "outputs": [],
   "source": [
    "sources = {source: samples}\n",
    "binaural_samples = render_static(renderer, sources)\n",
    "Audio(binaural_samples, rate=sample_rate)"
   ]
  },
  {
   "attachments": {},
   "cell_type": "markdown",
   "metadata": {},
   "source": [
    "## Blockwise processing accumulated into binaural np.array"
   ]
  },
  {
   "cell_type": "code",
   "execution_count": null,
   "metadata": {},
   "outputs": [],
   "source": [
    "binaural_output = np.zeros((2, len(samples)), dtype=np.float32)\n",
    "for start in np.arange(0, len(samples) - block_size, block_size):\n",
    "    input_buffer = samples[start:start+block_size]\n",
    "    # Comment the next line to keep the source stationary in the location defined above,\n",
    "    # otherwise it will circle counter-clockwise in the frontal plane\n",
    "    source.position = (0, sin(radians(start/block_size)), cos(radians(start/block_size)))\n",
    "    left_buffer, right_buffer = source.process_anechoic(input_buffer)\n",
    "    binaural_output[0, start:start+block_size] = left_buffer\n",
    "    binaural_output[1, start:start+block_size] = right_buffer\n",
    "\n",
    "    left_buffer, right_buffer = environment.process_virtual_ambisonic_reverb()\n",
    "    binaural_output[0, start:start+block_size] += left_buffer\n",
    "    binaural_output[1, start:start+block_size] += right_buffer"
   ]
  },
  {
   "cell_type": "code",
   "execution_count": null,
   "metadata": {},
   "outputs": [],
   "source": [
    "Audio(binaural_output, rate=sample_rate)"
   ]
  },
  {
   "attachments": {},
   "cell_type": "markdown",
   "metadata": {},
   "source": [
    "## Real-Time Output"
   ]
  },
  {
   "cell_type": "code",
   "execution_count": null,
   "metadata": {},
   "outputs": [],
   "source": [
    "with soundcard.default_speaker().player(samplerate=sample_rate, channels=2) as stereo_speaker:\n",
    "    for start in np.arange(0, len(samples) - block_size, block_size):\n",
    "        input_buffer = samples[start:start+block_size]\n",
    "        # Comment the next line to keep the source stationary in the location defined above,\n",
    "        # otherwise it will circle counter-clockwise in the horizontal plane\n",
    "        source.position = (cos(radians(start/block_size)), sin(radians(start/block_size)), 0)\n",
    "        stereo_output = np.column_stack(source.process_anechoic(input_buffer))\n",
    "        stereo_output += np.column_stack(environment.process_virtual_ambisonic_reverb())\n",
    "        stereo_speaker.play(stereo_output)"
   ]
  },
  {
   "attachments": {},
   "cell_type": "markdown",
   "metadata": {},
   "source": [
    "## Some more (modifiable) properties with sensible default values"
   ]
  },
  {
   "cell_type": "code",
   "execution_count": null,
   "metadata": {},
   "outputs": [],
   "source": [
    "listener.head_radius, listener.ild_attenuation"
   ]
  },
  {
   "cell_type": "code",
   "execution_count": null,
   "metadata": {},
   "outputs": [],
   "source": [
    "source.spatialization_mode, source.anechoic_processing, source.reverb_processing"
   ]
  },
  {
   "cell_type": "code",
   "execution_count": null,
   "metadata": {},
   "outputs": [],
   "source": [
    "source.far_distance_effect, source.near_field_effect"
   ]
  },
  {
   "cell_type": "code",
   "execution_count": null,
   "metadata": {},
   "outputs": [],
   "source": [
    "source.propagation_delay, source.anechoic_distance_attenuation, source.anechoic_distance_attenuation_smoothing"
   ]
  },
  {
   "cell_type": "code",
   "execution_count": null,
   "metadata": {},
   "outputs": [],
   "source": []
  }
 ],
 "metadata": {
  "kernelspec": {
   "display_name": "Python 3",
   "language": "python",
   "name": "python3"
  },
  "language_info": {
   "codemirror_mode": {
    "name": "ipython",
    "version": 3
   },
   "file_extension": ".py",
   "mimetype": "text/x-python",
   "name": "python",
   "nbconvert_exporter": "python",
   "pygments_lexer": "ipython3",
   "version": "3.11.2"
  },
  "orig_nbformat": 4,
  "vscode": {
   "interpreter": {
    "hash": "593772607564889768e040c4eca06ac0365bf9b661ccbf98b2a603716fd53ed2"
   }
  }
 },
 "nbformat": 4,
 "nbformat_minor": 2
}
