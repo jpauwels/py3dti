{
 "cells": [
  {
   "cell_type": "code",
   "execution_count": null,
   "metadata": {},
   "outputs": [],
   "source": [
    "%pip install -U py3dti miniaudio soundcard"
   ]
  },
  {
   "cell_type": "code",
   "execution_count": null,
   "metadata": {},
   "outputs": [],
   "source": [
    "from math import sin, cos, radians, ceil\n",
    "from IPython.display import Audio\n",
    "import numpy as np\n",
    "from miniaudio import decode_file, SampleFormat\n",
    "import soundcard\n",
    "import py3dti"
   ]
  },
  {
   "attachments": {},
   "cell_type": "markdown",
   "metadata": {},
   "source": [
    "## Setup py3dti"
   ]
  },
  {
   "cell_type": "code",
   "execution_count": null,
   "metadata": {},
   "outputs": [],
   "source": [
    "renderer = py3dti.BinauralRenderer(rate=44100, buffer_size=512, resampled_angular_resolution=5)"
   ]
  },
  {
   "attachments": {},
   "cell_type": "markdown",
   "metadata": {},
   "source": [
    "### Add listener"
   ]
  },
  {
   "cell_type": "code",
   "execution_count": null,
   "metadata": {},
   "outputs": [],
   "source": [
    "listener = renderer.add_listener(position=None, orientation=None, head_radius=0.0875)\n",
    "listener.load_hrtf_from_sofa(f'../3dti_AudioToolkit/resources/HRTF/SOFA/3DTI_HRTF_IRC1008_512s_{renderer.rate}Hz.sofa')\n",
    "# listener.load_hrtf_from_3dti(f'../3dti_AudioToolkit/resources/HRTF/3DTI/3DTI_HRTF_IRC1008_512s_{renderer.rate}Hz.3dti-hrtf') # faster, but less common file format\n",
    "listener.load_ild_near_field_effect_table(f'../3dti_AudioToolkit/resources/ILD/NearFieldCompensation_ILD_{renderer.rate}.3dti-ild')"
   ]
  },
  {
   "cell_type": "code",
   "execution_count": null,
   "metadata": {},
   "outputs": [],
   "source": [
    "listener.position, listener.orientation"
   ]
  },
  {
   "cell_type": "code",
   "execution_count": null,
   "metadata": {},
   "outputs": [],
   "source": [
    "listener.position = (0, 0, 0) # default listener position\n",
    "listener.orientation = (1, 0, 0, 0) # default listener orientation"
   ]
  },
  {
   "attachments": {},
   "cell_type": "markdown",
   "metadata": {},
   "source": [
    "### Add environment"
   ]
  },
  {
   "cell_type": "code",
   "execution_count": null,
   "metadata": {},
   "outputs": [],
   "source": [
    "environment = renderer.add_environment()\n",
    "environment.load_brir_from_sofa(f'../3dti_AudioToolkit/resources/BRIR/SOFA/3DTI_BRIR_medium_{renderer.rate}Hz.sofa')\n",
    "# environment.load_brir_from_3dti(f'../3dti_AudioToolkit/resources/BRIR/3DTI/3DTI_BRIR_medium_{renderer.rate}Hz.3dti-brir') # faster, but less common file format"
   ]
  },
  {
   "attachments": {},
   "cell_type": "markdown",
   "metadata": {},
   "source": [
    "### Add source(s)"
   ]
  },
  {
   "cell_type": "code",
   "execution_count": null,
   "metadata": {},
   "outputs": [],
   "source": [
    "source = renderer.add_source(position=(2, 2, 2))"
   ]
  },
  {
   "cell_type": "code",
   "execution_count": null,
   "metadata": {},
   "outputs": [],
   "source": [
    "source.position"
   ]
  },
  {
   "attachments": {},
   "cell_type": "markdown",
   "metadata": {},
   "source": [
    "### Display variables"
   ]
  },
  {
   "cell_type": "code",
   "execution_count": null,
   "metadata": {},
   "outputs": [],
   "source": [
    "renderer, renderer.listener, renderer.sources, renderer.environments"
   ]
  },
  {
   "attachments": {},
   "cell_type": "markdown",
   "metadata": {},
   "source": [
    "## Read source samples"
   ]
  },
  {
   "cell_type": "code",
   "execution_count": null,
   "metadata": {},
   "outputs": [],
   "source": [
    "file_path = f'../3dti_AudioToolkit/resources/AudioSamples/Anechoic Speech {renderer.rate}.wav'\n",
    "decoded_file = decode_file(filename=file_path, output_format=SampleFormat.FLOAT32,\n",
    "                           nchannels=1, sample_rate=renderer.rate)\n",
    "samples = np.asarray(decoded_file.samples)"
   ]
  },
  {
   "attachments": {},
   "cell_type": "markdown",
   "metadata": {},
   "source": [
    "## Offline Rendering to `np.array`"
   ]
  },
  {
   "attachments": {},
   "cell_type": "markdown",
   "metadata": {},
   "source": [
    "### Static sources and listener"
   ]
  },
  {
   "cell_type": "code",
   "execution_count": null,
   "metadata": {},
   "outputs": [],
   "source": [
    "sources = {source: samples}\n",
    "binaural_samples = renderer.render_offline(sources)"
   ]
  },
  {
   "cell_type": "code",
   "execution_count": null,
   "metadata": {},
   "outputs": [],
   "source": [
    "Audio(binaural_samples.T, rate=renderer.rate, normalize=False)"
   ]
  },
  {
   "attachments": {},
   "cell_type": "markdown",
   "metadata": {},
   "source": [
    "### Dynamic sources or listener"
   ]
  },
  {
   "cell_type": "code",
   "execution_count": null,
   "metadata": {},
   "outputs": [],
   "source": [
    "# let the source circle counter-clockwise in the frontal plane\n",
    "source_positions = {source: [(0, sin(radians(i)), cos(radians(i))) for i in range(ceil(len(samples)/renderer.buffer_size))]}\n",
    "binaural_samples = renderer.render_offline(sources, source_positions)"
   ]
  },
  {
   "cell_type": "code",
   "execution_count": null,
   "metadata": {},
   "outputs": [],
   "source": [
    "Audio(binaural_samples.T, rate=renderer.rate, normalize=False)"
   ]
  },
  {
   "attachments": {},
   "cell_type": "markdown",
   "metadata": {},
   "source": [
    "## Block-Wise Streaming Output"
   ]
  },
  {
   "attachments": {},
   "cell_type": "markdown",
   "metadata": {},
   "source": [
    "### Source samples available offline"
   ]
  },
  {
   "attachments": {},
   "cell_type": "markdown",
   "metadata": {},
   "source": [
    "#### Static sources and listener"
   ]
  },
  {
   "cell_type": "code",
   "execution_count": null,
   "metadata": {},
   "outputs": [],
   "source": [
    "binaural_streamer = renderer.render_online(sources)\n",
    "type(binaural_streamer)"
   ]
  },
  {
   "cell_type": "code",
   "execution_count": null,
   "metadata": {},
   "outputs": [],
   "source": [
    "with soundcard.default_speaker().player(samplerate=renderer.rate, channels=2) as stereo_speaker:\n",
    "    for block_idx in range(len(binaural_streamer)):\n",
    "        stereo_speaker.play(binaural_streamer())"
   ]
  },
  {
   "cell_type": "code",
   "execution_count": null,
   "metadata": {},
   "outputs": [],
   "source": [
    "binaural_streamer()"
   ]
  },
  {
   "attachments": {},
   "cell_type": "markdown",
   "metadata": {},
   "source": [
    "#### Dynamic sources or listener"
   ]
  },
  {
   "cell_type": "code",
   "execution_count": null,
   "metadata": {},
   "outputs": [],
   "source": [
    "binaural_streamer = renderer.render_online(sources)\n",
    "with soundcard.default_speaker().player(samplerate=renderer.rate, channels=2) as stereo_speaker:\n",
    "    for block_idx in range(len(binaural_streamer)):\n",
    "        # let source circle counter-clockwise in the horizontal plane\n",
    "        position_map = {source: (cos(radians(block_idx)), sin(radians(block_idx)), 0)}\n",
    "        stereo_speaker.play(binaural_streamer(position_map))"
   ]
  },
  {
   "cell_type": "code",
   "execution_count": null,
   "metadata": {},
   "outputs": [],
   "source": [
    "binaural_streamer = renderer.render_online(sources)\n",
    "binaural_blocks = []\n",
    "for block_idx in range(len(binaural_streamer)):\n",
    "    # let source circle clockwise in the median plane\n",
    "    position_map = {source: (cos(radians(block_idx)), 0, sin(radians(block_idx)))}\n",
    "    binaural_blocks.append(binaural_streamer(position_map))\n",
    "binaural_samples = np.row_stack(binaural_blocks)"
   ]
  },
  {
   "cell_type": "code",
   "execution_count": null,
   "metadata": {},
   "outputs": [],
   "source": [
    "Audio(binaural_samples.T, rate=renderer.rate, normalize=False)"
   ]
  },
  {
   "attachments": {},
   "cell_type": "markdown",
   "metadata": {},
   "source": [
    "### Source samples incoming block by block"
   ]
  },
  {
   "attachments": {},
   "cell_type": "markdown",
   "metadata": {},
   "source": [
    "#### Dynamic sources or listener"
   ]
  },
  {
   "cell_type": "code",
   "execution_count": null,
   "metadata": {},
   "outputs": [],
   "source": [
    "binaural_streamer = renderer.render_online()\n",
    "type(binaural_streamer)"
   ]
  },
  {
   "cell_type": "code",
   "execution_count": null,
   "metadata": {},
   "outputs": [],
   "source": [
    "with soundcard.default_speaker().player(samplerate=renderer.rate, channels=2) as stereo_speaker:\n",
    "    sample_idx = 0\n",
    "    while True:\n",
    "        input_buffer = samples[sample_idx:sample_idx+renderer.buffer_size]\n",
    "        # fill remainder of input buffer with zeros\n",
    "        input_buffer = np.concatenate((input_buffer, np.zeros(renderer.buffer_size-len(input_buffer))))\n",
    "        samples_map = {source: input_buffer}\n",
    "        position_map = {source: (cos(radians(sample_idx/renderer.buffer_size)), sin(radians(sample_idx/renderer.buffer_size)), 0)}\n",
    "        output_buffer = binaural_streamer(samples_map, position_map)\n",
    "        stereo_speaker.play(output_buffer)\n",
    "        sample_idx = (sample_idx + renderer.buffer_size) % len(samples)"
   ]
  },
  {
   "attachments": {},
   "cell_type": "markdown",
   "metadata": {},
   "source": [
    "## Some more (modifiable) properties with sensible default values"
   ]
  },
  {
   "cell_type": "code",
   "execution_count": null,
   "metadata": {},
   "outputs": [],
   "source": [
    "listener.head_radius, listener.ild_attenuation"
   ]
  },
  {
   "cell_type": "code",
   "execution_count": null,
   "metadata": {},
   "outputs": [],
   "source": [
    "source.spatialization_mode, source.anechoic_processing, source.reverb_processing"
   ]
  },
  {
   "cell_type": "code",
   "execution_count": null,
   "metadata": {},
   "outputs": [],
   "source": [
    "source.far_distance_effect, source.near_field_effect"
   ]
  },
  {
   "cell_type": "code",
   "execution_count": null,
   "metadata": {},
   "outputs": [],
   "source": [
    "source.propagation_delay, source.anechoic_distance_attenuation, source.anechoic_distance_attenuation_smoothing"
   ]
  },
  {
   "cell_type": "code",
   "execution_count": null,
   "metadata": {},
   "outputs": [],
   "source": []
  }
 ],
 "metadata": {
  "kernelspec": {
   "display_name": "Python 3",
   "language": "python",
   "name": "python3"
  },
  "language_info": {
   "codemirror_mode": {
    "name": "ipython",
    "version": 3
   },
   "file_extension": ".py",
   "mimetype": "text/x-python",
   "name": "python",
   "nbconvert_exporter": "python",
   "pygments_lexer": "ipython3",
   "version": "3.11.5"
  }
 },
 "nbformat": 4,
 "nbformat_minor": 4
}
